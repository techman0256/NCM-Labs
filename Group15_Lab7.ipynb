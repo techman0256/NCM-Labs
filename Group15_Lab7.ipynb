{
  "cells": [
    {
      "cell_type": "markdown",
      "id": "02f30203",
      "metadata": {
        "id": "02f30203"
      },
      "source": [
        "# Lab 7 - Cubic Splines\n",
        "## April 3 - April 5, 2023\n",
        "## Student 1 Name: Dhruv Shah Student 1 ID No. $\\underline{202103017}$\n",
        "## Student 2 Name: Vatsal Shah Student 2 ID No. $\\underline{202103022}$\n",
        "## Student 3 Name: Pranav Patel Student 3 ID No. $\\underline{202103040}$\n",
        "## Date of Submission: $\\underline{05/04/23}$\n",
        "***"
      ]
    },
    {
      "cell_type": "code",
      "execution_count": 1,
      "id": "80cd8e82",
      "metadata": {
        "id": "80cd8e82"
      },
      "outputs": [],
      "source": [
        "# import useful libraries\n",
        "import numpy as np\n",
        "import matplotlib.pyplot as plt\n",
        "import math"
      ]
    },
    {
      "cell_type": "markdown",
      "id": "90c5afe0",
      "metadata": {
        "id": "90c5afe0"
      },
      "source": [
        "### Q.1 Write a function `myUL` that takes in a matrix  $A \\in \\mathbb{R}^{n \\times n}$, and returns the permutation matrix $P$, upper triangular matrix $U$ and lower triangular matrix $L$ such that $PA = UL$. (*this is not a typo*)"
      ]
    },
    {
      "cell_type": "code",
      "execution_count": 2,
      "id": "801cad2c",
      "metadata": {
        "id": "801cad2c"
      },
      "outputs": [],
      "source": [
        "### PA=UL factorization\n",
        "def myUL(A):\n",
        "  # print(A)\n",
        "  n = len(A[0])\n",
        "  U = np.eye(n)\n",
        "  L = A.copy()\n",
        "  P = np.eye(n)\n",
        "\n",
        "  for i in range(n-1, 0, -1):\n",
        "    E = np.eye(n) \n",
        "\n",
        "    # what if a_i,i = 0?\n",
        "    for j in range(i, -1, -1):\n",
        "      if (~np.isclose(L[j, j] , 0)):\n",
        "        break\n",
        "      L[[j-1, j], ] = L[[j, j-1], ]\n",
        "      P[[j-1, j], ] = P[[j, j-1], ]\n",
        "      \n",
        "    m_ij = -L[ :i, i]/L[i, i]\n",
        "    # print(L[i, i], 'pivot')\n",
        "    # print(m_ij, 'mj')\n",
        "    \n",
        "    \n",
        "    \n",
        "    E[ :i, i] = m_ij\n",
        "    # print(E)\n",
        "    L = np.matmul(E, L)\n",
        "    # print(L, 'L inter')\n",
        "    U[ :i, i] = -m_ij\n",
        "    # print(U)\n",
        "  \n",
        "  return P, U, L\n",
        "\n"
      ]
    },
    {
      "cell_type": "markdown",
      "id": "9f415543",
      "metadata": {
        "id": "9f415543"
      },
      "source": [
        "### Q.1(a) Print examples of matrices A with matrices P,L and U such that PA = UL, with a verification for PA=UL."
      ]
    },
    {
      "cell_type": "code",
      "execution_count": 3,
      "id": "cba83895",
      "metadata": {
        "colab": {
          "base_uri": "https://localhost:8080/"
        },
        "id": "cba83895",
        "outputId": "6e58d286-36da-42b7-e83d-fa03a7aec440"
      },
      "outputs": [
        {
          "name": "stdout",
          "output_type": "stream",
          "text": [
            "Verifying PA = UL\n",
            "[[1. 2. 3.]\n",
            " [4. 5. 6.]\n",
            " [7. 8. 9.]]\n",
            "[[1. 2. 3.]\n",
            " [4. 5. 6.]\n",
            " [7. 8. 9.]]\n"
          ]
        }
      ],
      "source": [
        "### Examples of A and factors P,U,L.\n",
        "\n",
        "# A = np.array([[1, 2, 3, 4], \n",
        "#               [1, 9, 4, 5], \n",
        "#               [5, 3, 5, 8], \n",
        "#               [3, 4, 2, 2]])\n",
        "A = np.array([[1,2,3], \n",
        "              [4,5,6], \n",
        "              [7, 8, 9]])\n",
        "# A = np.array([\n",
        "#     [1, 2, 3, 4],\n",
        "#     [5, 6, 7, 8],\n",
        "#     [9, 10, 11, 12],\n",
        "#     [13, 14, 15, 16],\n",
        "# ])\n",
        "\n",
        "\n",
        "P, U, L = myUL(A)\n",
        "print(\"Verifying PA = UL\")\n",
        "print(np.matmul(P,A))\n",
        "print(np.matmul(U,L))"
      ]
    },
    {
      "cell_type": "code",
      "execution_count": 4,
      "id": "9F3mQn7wh6Wy",
      "metadata": {
        "colab": {
          "base_uri": "https://localhost:8080/"
        },
        "id": "9F3mQn7wh6Wy",
        "outputId": "a54734ed-6fd5-440d-9226-840de331bb69"
      },
      "outputs": [
        {
          "name": "stdout",
          "output_type": "stream",
          "text": [
            "Verifying PA = UL\n",
            "[[0. 2. 3. 4.]\n",
            " [1. 0. 5. 6.]\n",
            " [7. 4. 2. 0.]\n",
            " [5. 2. 5. 1.]]\n",
            "[[0. 2. 3. 4.]\n",
            " [1. 0. 5. 6.]\n",
            " [7. 4. 2. 0.]\n",
            " [5. 2. 5. 1.]]\n"
          ]
        }
      ],
      "source": [
        "A = np.array([[0, 2, 3, 4], [1, 0, 5, 6], [5, 2, 5, 1], [7, 4, 2, 0]])\n",
        "P, U, L = myUL(A)\n",
        "print(\"Verifying PA = UL\")\n",
        "print(np.matmul(P,A))\n",
        "print(np.matmul(U,L))"
      ]
    },
    {
      "cell_type": "markdown",
      "id": "1a180b7b",
      "metadata": {
        "id": "1a180b7b"
      },
      "source": [
        "***\n",
        "### Q.2 Let us now use the above PA=UL factorization to compute inverse of a given matrix. Write a function `mymatinverse` that takes in a matrix $A \\in \\mathbb{R}^{n\\times n}$ uses the above function to obtain the factorization: $PA = UL$, and find whether the matrix $A$ is invertible or not, and if it is, it should return the inverse computed by back/forward substitution."
      ]
    },
    {
      "cell_type": "code",
      "execution_count": 102,
      "id": "dWYRZ404Js3w",
      "metadata": {
        "id": "dWYRZ404Js3w"
      },
      "outputs": [],
      "source": [
        "def forsub(L, b):\n",
        "    #Get number of rows\n",
        "    n = L.shape[0]\n",
        "    \n",
        "    #Allocating space for the solution vector\n",
        "    y = np.zeros_like(b, dtype=np.double);\n",
        "    \n",
        "    #Here we perform the forward-substitution.  \n",
        "    #Initializing  with the first row.\n",
        "    y[0] = b[0] / L[0, 0]\n",
        "    \n",
        "    for i in range(1, n):\n",
        "        y[i] = (b[i] - np.dot(L[i,:i], y[:i])) / L[i,i]\n",
        "    return y\n",
        "\n",
        "\n",
        "\n",
        "def backsub(U, y):\n",
        "    #Number of rows\n",
        "    n = U.shape[0]\n",
        "    \n",
        "    #Allocating space for the solution vector\n",
        "    x = np.zeros_like(y, dtype=np.double);\n",
        "\n",
        "    #Here we perform the back-substitution.  \n",
        "    #Initializing with the last row.\n",
        "    x[-1] = y[-1] / U[-1, -1]\n",
        "    \n",
        "    for i in range(n-2, -1, -1):\n",
        "        x[i] = (y[i] - np.dot(U[i,i:], x[i:])) / U[i,i]\n",
        "        \n",
        "    return x"
      ]
    },
    {
      "cell_type": "code",
      "execution_count": 103,
      "id": "fa111cf9",
      "metadata": {
        "id": "fa111cf9"
      },
      "outputs": [],
      "source": [
        "### Compute Inverse of Matrix using UL decomposition and back/forward substitution\n",
        "def mymatinverse(A):\n",
        "  P, U, L = myUL(A)\n",
        "  n = len(A[0])\n",
        "  \n",
        "  invA = np.zeros((n, n))\n",
        "\n",
        "  I = np.eye(n)\n",
        "  I = np.matmul(P, I)\n",
        "  detL = np.prod(np.diagonal(L))\n",
        "  if (detL == 0):\n",
        "    print('Not Invertible')\n",
        "    return\n",
        "  \n",
        "  for i in range(n):\n",
        "    y = backsub(U, I[:,i])\n",
        "    invA[:, i] = forsub(L, y)\n",
        "\n",
        "  return invA"
      ]
    },
    {
      "cell_type": "markdown",
      "id": "9a8afe5b",
      "metadata": {
        "id": "9a8afe5b"
      },
      "source": [
        "### Q.2(a) Print a few examples of matrices $A$ and their inverses, and verify the correctness of the inverse by computing $A\\cdot A^{-1}$"
      ]
    },
    {
      "cell_type": "code",
      "execution_count": 104,
      "id": "dbb24b88",
      "metadata": {
        "colab": {
          "base_uri": "https://localhost:8080/"
        },
        "id": "dbb24b88",
        "outputId": "361340d1-7d3d-4a57-b3d3-158a0bb488a4"
      },
      "outputs": [
        {
          "name": "stdout",
          "output_type": "stream",
          "text": [
            "[[-0.27737226  0.20437956 -0.11678832  0.19708029]\n",
            " [ 0.4270073  -0.28832117  0.02189781  0.02554745]\n",
            " [ 0.11678832 -0.13868613  0.3649635  -0.24087591]\n",
            " [-0.05109489  0.24817518 -0.28467153  0.16788321]]\n",
            "[[ 1.00000000e+00 -1.88737914e-15 -1.11022302e-15  1.33226763e-15]\n",
            " [-2.83106871e-15  1.00000000e+00 -1.11022302e-15  8.88178420e-16]\n",
            " [ 0.00000000e+00  0.00000000e+00  1.00000000e+00  1.11022302e-16]\n",
            " [ 0.00000000e+00  0.00000000e+00  0.00000000e+00  1.00000000e+00]]\n"
          ]
        }
      ],
      "source": [
        "### Examples of A and A^{-1}\n",
        "\n",
        "A = np.array([[0, 2, 3, 4], [1, 0, 5, 6], [5, 2, 5., 1], [7, 4, 2, 0]])\n",
        "invA = mymatinverse(A)\n",
        "print(invA)\n",
        "print(np.matmul(A, invA))\n",
        "             \n",
        "\n",
        "\n",
        "\n"
      ]
    },
    {
      "cell_type": "code",
      "execution_count": 105,
      "id": "TciHmKSXipEt",
      "metadata": {
        "colab": {
          "base_uri": "https://localhost:8080/"
        },
        "id": "TciHmKSXipEt",
        "outputId": "55ccfb36-d561-4f17-f678-81645c1f0934"
      },
      "outputs": [
        {
          "name": "stdout",
          "output_type": "stream",
          "text": [
            "[[-2.66666667  2.66666667 -1.        ]\n",
            " [ 3.33333333 -4.33333333  2.        ]\n",
            " [-1.          2.         -1.        ]]\n",
            "[[ 1.0000000e+00  0.0000000e+00  0.0000000e+00]\n",
            " [-8.8817842e-16  1.0000000e+00  0.0000000e+00]\n",
            " [ 0.0000000e+00  0.0000000e+00  1.0000000e+00]]\n"
          ]
        }
      ],
      "source": [
        "A = np.array([[1,2,3], \n",
        "              [4,5,6], \n",
        "              [7,8,8]])\n",
        "invA = mymatinverse(A)\n",
        "print(invA)\n",
        "print(np.matmul(A, invA))\n"
      ]
    },
    {
      "cell_type": "code",
      "execution_count": 106,
      "id": "ld3R1o0Li3IF",
      "metadata": {
        "colab": {
          "base_uri": "https://localhost:8080/"
        },
        "id": "ld3R1o0Li3IF",
        "outputId": "9319f8df-bd84-4064-baef-b40b4734b4fd"
      },
      "outputs": [
        {
          "name": "stdout",
          "output_type": "stream",
          "text": [
            "[[ 1.4  -0.96  0.28 -0.12]\n",
            " [-2.2   1.48 -0.64  0.56]\n",
            " [-1.6   1.04  0.28 -0.12]\n",
            " [ 2.2  -1.28  0.04 -0.16]]\n",
            "[[ 1.00000000e+00  0.00000000e+00 -1.55431223e-15 -1.11022302e-15]\n",
            " [-3.55271368e-15  1.00000000e+00 -2.44249065e-15 -2.10942375e-15]\n",
            " [-4.44089210e-16  8.88178420e-16  1.00000000e+00  0.00000000e+00]\n",
            " [ 0.00000000e+00  0.00000000e+00  0.00000000e+00  1.00000000e+00]]\n"
          ]
        }
      ],
      "source": [
        "A = np.array([[1, 2, 3, 4], [1, 3, 5, 6], [5, 2, 3, 1], [7, 4, 2, 1]])\n",
        "invA = mymatinverse(A)\n",
        "print(invA)\n",
        "print(np.matmul(A, invA))"
      ]
    },
    {
      "cell_type": "markdown",
      "id": "8cf08f91",
      "metadata": {
        "id": "8cf08f91"
      },
      "source": [
        "### Q.3 Using the above function to compute inverse of a matrix, draw a closed cubic spline curve through points given by the user, as implemented in the previous lab."
      ]
    },
    {
      "cell_type": "code",
      "execution_count": 107,
      "id": "865SQCwAXKqU",
      "metadata": {
        "id": "865SQCwAXKqU"
      },
      "outputs": [],
      "source": [
        "def find_next_indexes(x, arr):\n",
        "    next_smaller = None\n",
        "    next_bigger = None\n",
        "    for i in range(len(arr)):\n",
        "        if arr[i] < x:\n",
        "            if next_smaller is None or arr[i] > arr[next_smaller]:\n",
        "                next_smaller = i\n",
        "        elif arr[i] > x:\n",
        "            if next_bigger is None or arr[i] <= arr[next_bigger]:\n",
        "                next_bigger = i\n",
        "    if next_smaller == None:\n",
        "        next_smaller = 0\n",
        "    \n",
        "    return next_smaller, next_bigger"
      ]
    },
    {
      "cell_type": "code",
      "execution_count": 108,
      "id": "bGrD_daUXOLD",
      "metadata": {
        "id": "bGrD_daUXOLD"
      },
      "outputs": [],
      "source": [
        "# Functions that Evaluate the S(x) = P(x)_i , where i=0, 1, 2, .., n-1\n",
        "def S(val, coeff, data_points):\n",
        "    k, k1 = find_next_indexes(val,data_points)\n",
        "    poly = coeff[k,:] # some function that returns you the coefficients for the P(x)_i given x\n",
        "    # poly = poly.reshape((4,1))\n",
        "    eval = (poly[0] + (poly[1] * val) + (poly[2] * (val**2)) + (poly[3] * (val**3)))    \n",
        "    return eval"
      ]
    },
    {
      "cell_type": "code",
      "execution_count": 113,
      "id": "533a2dbf",
      "metadata": {
        "id": "533a2dbf"
      },
      "outputs": [],
      "source": [
        "### def mycubicsplineclosedcurve(x,y):\n",
        "\n",
        "def mycubicsplineclosedcurve(x, y, n):\n",
        "  matlar = np.zeros((4*n,4*n))\n",
        "  # y_fin = np.zeros((4*n,1))\n",
        "  y_fin = []\n",
        "  for i in range(n):\n",
        "      blockMat = []\n",
        "      x_k = x[i]\n",
        "      x_k1 = x[i+1]\n",
        "      y_fin = np.append(y_fin, [y[i], y[i+1], 0, 0])\n",
        "\n",
        "      r1 = np.array([1, x_k, x_k ** 2, x_k ** 3, 0, 0, 0,0]) # n x 8 \n",
        "      r2 = np.array([1, x_k1, x_k1 ** 2, x_k1 ** 3, 0, 0, 0,0]) # n x 8\n",
        "      if(i != n-1):\n",
        "          r3 = np.array([0, 1, 2 * x_k1, 3 * (x_k1 ** 2), 0, -1, -2 * x_k1, -3 * (x_k1 ** 2) ]) # n-1 x 8 \n",
        "          r4 = np.array([0, 0, 2, 6 * x_k1, 0, 0, -2, -6 * x_k1 ]) # n-1 x 8\n",
        "\n",
        "          blockMat = np.vstack((r1, r2, r3, r4))\n",
        "          matlar[4*i:4*i+4,4*i:4*i+8] = blockMat\n",
        "      else :\n",
        "          r1 = r1[:4]\n",
        "          r2 = r2[:4]\n",
        "          blockMat = np.vstack((r1, r2))\n",
        "          matlar[4*i:4*i+2,4*i:4*i+4] = blockMat \n",
        "\n",
        "  matlar[4*n-2:4*n-1,0:4] = np.array([0, 1, 2 * x[0], 3*(x[0] **2)])\n",
        "  matlar[4*n-2:4*n-1,4*n-4:4*n] = np.array([0, -1, -2 * x[len(x) - 1], -3*(x[len(x) - 1] **2)])\n",
        "\n",
        "  \n",
        "  matlar[4*n-1:4*n,0:4] = np.array([0, 0, 2, 6 * x[0] ])\n",
        "  matlar[4*n-1:4*n,4*n-4:4*n] = np.array([0, 0, -2, -6* x[len(x) - 1] ])\n",
        "\n",
        "  # print(matlar.shape)\n",
        "  # print(matlar)\n",
        "\n",
        "  y_fin = np.reshape(y_fin, (4*n,1))\n",
        "  # print(y_fin)\n",
        "\n",
        "  # M = np.linalg.inv(matlar)\n",
        "  M = mymatinverse(matlar)\n",
        "  # print(M)\n",
        "  # print(np.linalg.inv(matlar))\n",
        "  # print(abs(M - np.linalg.inv(matlar)))\n",
        "  # y_fin = np.matmul(P, y_fin)\n",
        "  coeff =  np.matmul(M, y_fin)\n",
        "  # coeff = np.linalg.solve(matlar, y_fin)\n",
        "  \n",
        "  coeff_eval = np.reshape(coeff, (len(x) - 1,4))\n",
        "\n",
        "  # x_plot = np.linspace(x[0], x[len(x)-1], 1000)\n",
        "  # y_plot = []\n",
        "  # plt.scatter(x,y)\n",
        "  # for i in range(len(x_plot)):\n",
        "  #     val = S(x_plot[i], coeff_eval, x)\n",
        "  #     y_plot = np.append(y_plot, val)\n",
        "  # plt.plot(x_plot, y_plot, color='b')\n",
        "  # plt.show()\n",
        "\n",
        "  return coeff_eval\n",
        "\n",
        "\n",
        "\n",
        "\n",
        "\n"
      ]
    },
    {
      "cell_type": "markdown",
      "id": "5d98271d",
      "metadata": {
        "id": "5d98271d"
      },
      "source": [
        "### Q.3(a) Show some examples of closed spline curves passing through user given points."
      ]
    },
    {
      "cell_type": "code",
      "execution_count": 114,
      "id": "4a7b7f18",
      "metadata": {
        "colab": {
          "base_uri": "https://localhost:8080/",
          "height": 447
        },
        "id": "4a7b7f18",
        "outputId": "2ce4cf46-aebe-4117-b8cd-b5edbe064ea3"
      },
      "outputs": [
        {
          "data": {
            "text/plain": [
              "<matplotlib.collections.PathCollection at 0x7f0c0ffedb50>"
            ]
          },
          "execution_count": 114,
          "metadata": {},
          "output_type": "execute_result"
        },
        {
          "data": {
            "image/png": "[encoded data removed]",
            "text/plain": [
              "<Figure size 640x480 with 1 Axes>"
            ]
          },
          "metadata": {},
          "output_type": "display_data"
        }
      ],
      "source": [
        "### Examples of splines\n",
        "x = [-2, 2, 0, -2]\n",
        "y = [3, 0, 1, 3]\n",
        "\n",
        "n = len(x)\n",
        "t = np.linspace(-1, 1, len(x))\n",
        "\n",
        "plt.show()\n",
        "vx = mycubicsplineclosedcurve(t, x, n-1)\n",
        "vy = mycubicsplineclosedcurve(t, y, n-1)\n",
        "vx = np.reshape(vx, (len(x) - 1, 4))\n",
        "vy = np.reshape(vy, (len(x) - 1, 4))\n",
        "\n",
        "\n",
        "t_x = np.linspace(-1, 1, 1000)\n",
        "x_t = []\n",
        "y_t = []\n",
        "\n",
        "for i in range(len(t_x)):\n",
        "  x_t = np.append(x_t, S(t_x[i], vx, t))\n",
        "  y_t = np.append(y_t, S(t_x[i], vy, t))\n",
        "\n",
        "plt.scatter(x, y, color='r')\n",
        "plt.scatter(x_t, y_t, s=2, color='g')\n",
        "# plt.xlim(-5, 5)\n",
        "# plt.ylim(-5, 5)\n"
      ]
    },
    {
      "cell_type": "markdown",
      "id": "ylsr4FXajohX",
      "metadata": {
        "id": "ylsr4FXajohX"
      },
      "source": [
        "Due to the computational errors obtained in computing the inverse using the function mymatinverse(A), we do not get an exact closed curve. To reduce this errors we would have to use some other methods of pivoting. "
      ]
    }
  ],
  "metadata": {
    "colab": {
      "provenance": []
    },
    "kernelspec": {
      "display_name": "Python 3",
      "language": "python",
      "name": "python3"
    },
    "language_info": {
      "codemirror_mode": {
        "name": "ipython",
        "version": 3
      },
      "file_extension": ".py",
      "mimetype": "text/x-python",
      "name": "python",
      "nbconvert_exporter": "python",
      "pygments_lexer": "ipython3",
      "version": "3.9.13"
    },
    "varInspector": {
      "cols": {
        "lenName": 16,
        "lenType": 16,
        "lenVar": 40
      },
      "kernels_config": {
        "python": {
          "delete_cmd_postfix": "",
          "delete_cmd_prefix": "del ",
          "library": "var_list.py",
          "varRefreshCmd": "print(var_dic_list())"
        },
        "r": {
          "delete_cmd_postfix": ") ",
          "delete_cmd_prefix": "rm(",
          "library": "var_list.r",
          "varRefreshCmd": "cat(var_dic_list()) "
        }
      },
      "types_to_exclude": [
        "module",
        "function",
        "builtin_function_or_method",
        "instance",
        "_Feature"
      ],
      "window_display": false
    }
  },
  "nbformat": 4,
  "nbformat_minor": 5
}
