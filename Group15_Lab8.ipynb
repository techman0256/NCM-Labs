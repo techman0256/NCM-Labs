{
  "cells": [
    {
      "cell_type": "markdown",
      "id": "02f30203",
      "metadata": {
        "id": "02f30203"
      },
      "source": [
        "# Lab 8 - Iterative Methods for Linear Systems\n",
        "## April 10 - April 12, 2023\n",
        "## Student 1 Name: Dhruv Shah Student 1 ID No. $\\underline{202103017}$\n",
        "## Student 2 Name: Pranav Patel Student 2 ID No. $\\underline{202103040}$\n",
        "## Student 3 Name: Vatsal Shah Student 3 ID No. $\\underline{202103022}$\n",
        "## Date of Submission: $\\underline{12/04/23}$\n",
        "***"
      ]
    },
    {
      "cell_type": "code",
      "execution_count": 1,
      "id": "80cd8e82",
      "metadata": {
        "id": "80cd8e82"
      },
      "outputs": [],
      "source": [
        "# import useful libraries\n",
        "import numpy as np\n",
        "import matplotlib.pyplot as plt\n",
        "import math\n",
        "import time"
      ]
    },
    {
      "cell_type": "markdown",
      "id": "90c5afe0",
      "metadata": {
        "id": "90c5afe0"
      },
      "source": [
        "### Q.1 Write a function `myfwdsubstituion` that takes in an upper triangular matrix  $U \\in \\mathbb{R}^{n \\times n}$, a vector $b \\in \\mathbb{R}^{n \\times 1}$ and returns the solution $x$ of $Ux = b$ obtained by forward substitution."
      ]
    },
    {
      "cell_type": "code",
      "execution_count": 2,
      "id": "801cad2c",
      "metadata": {
        "id": "801cad2c"
      },
      "outputs": [],
      "source": [
        "### Solving Lower-triangular system of equations: Ux=b\n",
        "def myfwdsubstitution(L,b):\n",
        "    n = len(L[0])\n",
        "    y = np.zeros_like(b, dtype=np.double) #This returns an array of zeros with the same shape and type of the input array.\n",
        "    y[0] = b[0] / L[0, 0]\n",
        "    for i in range(1, n):\n",
        "        y[i] = (b[i] - np.dot(L[i,:i], y[:i])) / L[i,i]\n",
        "    return y"
      ]
    },
    {
      "cell_type": "markdown",
      "id": "9f415543",
      "metadata": {
        "id": "9f415543"
      },
      "source": [
        "***\n",
        "### Q.2 Write a function `myGS` that solves a linear system of equations iteratively using the Gauss-Seidel method using the function `myfwsubstitution` written above. The function accepts the matrix $A \\in \\mathbb{R}^{n \\times n}$, the vector $b \\in \\mathbb{R}^n$, and returns the solution to $Ax=b$. The stopping criteria could be to check $\\frac{||x_{k+1}-x_k||}{||x_k||+\\epsilon}$, where $\\epsilon$ is a small number that ensures that the denominator does not go to zero."
      ]
    },
    {
      "cell_type": "code",
      "execution_count": 3,
      "id": "cba83895",
      "metadata": {
        "id": "cba83895"
      },
      "outputs": [],
      "source": [
        "### Gauss-Seidel method\n",
        "### def myGS(A,b)\n",
        "def myGS(A,b):\n",
        "  eps = 10e-10\n",
        "  x_k = np.empty(len(b))\n",
        "  x_k1 = np.zeros(len(b))\n",
        "  x_k.fill(7)\n",
        "  P = np.tril(A)\n",
        "  Q = P - A\n",
        "  # print(np.linalg.norm(x_k1 - x_k)/(np.linalg.norm(x_k) + eps))\n",
        "  start = time.time()\n",
        "  itr = 0\n",
        "  while(np.linalg.norm(x_k1 - x_k, np.inf)/(np.linalg.norm(x_k, np.inf) + eps) > 10e-10):\n",
        "    itr+=1\n",
        "    x_k = x_k1\n",
        "    M = np.matmul(Q, x_k)\n",
        "    M = M + b\n",
        "    x_k1 = myfwdsubstitution(P, M)\n",
        "  end = time.time()\n",
        "  t = end - start\n",
        "# print(\"Time taken by the GS method is \", (end - start), \" seconds\")\n",
        "  return x_k1, t, itr"
      ]
    },
    {
      "cell_type": "markdown",
      "id": "2c5d314f",
      "metadata": {
        "id": "2c5d314f"
      },
      "source": [
        "***\n",
        "### Q.3 Write a function `myJacobi` that solves a linear system of equations iteratively using the Jacobi method. The function accepts the matrix $A \\in \\mathbb{R}^{n \\times n}$, the vector $b \\in \\mathbb{R}^n$, and returns the solution to $Ax=b$. The stopping criteria could be to check $\\frac{||x_{k+1}-x_k||}{||x_k||+\\epsilon}$, where $\\epsilon$ is a small number that ensures that the denominator does not go to zero."
      ]
    },
    {
      "cell_type": "code",
      "execution_count": 30,
      "id": "ffbc30a6",
      "metadata": {
        "id": "ffbc30a6"
      },
      "outputs": [],
      "source": [
        "### Jacobi Iterative Method\n",
        "### def myJacobi(A,b)\n",
        "def myJacobi(A,b):\n",
        "    eps = 10e-10\n",
        "    P = np.diag(np.diag(A))\n",
        "    Q = P - A\n",
        "    x_k = np.zeros((len(b)))\n",
        "    x_k1 = np.ones((len(b)))\n",
        "    start = time.time()\n",
        "    itr = 0\n",
        "    while(np.linalg.norm(x_k1 - x_k, np.inf)/(np.linalg.norm(x_k, np.inf) + eps) > 10e-10):\n",
        "        itr+=1\n",
        "        x_k = x_k1\n",
        "        mul = np.matmul(Q,x_k) + b\n",
        "        x_k1 = np.divide(mul,np.diag(P))\n",
        "    end = time.time()\n",
        "    t = end - start\n",
        "    return x_k1, t, itr"
      ]
    },
    {
      "cell_type": "markdown",
      "id": "9183e95a",
      "metadata": {
        "id": "9183e95a"
      },
      "source": [
        "***\n",
        "### Q.4 Construct a few matrices that are diagonally dominant, for eg: $A = \\left[\\begin{array}{ccccc}\n",
        "5 & -1 & 0 & \\ldots & -1 \\\\\n",
        "-1 & 5 & -1 & \\ldots & 0 \\\\\n",
        "\\vdots & \\vdots & \\vdots & \\ldots & \\vdots \\\\\n",
        "0 & 0 & 0 & \\ldots & 5\n",
        "\\end{array}\\right]$ and vectors $b$, and solve the sytem $Ax=b$ using `myGS`,`myJacobi`, and `np.linalg.solve`. Compare the solutions, iterations and the time taken to solve the system. Also note the error in the solution, assuming that the `numpy.linalg.solve` produces the true solution"
      ]
    },
    {
      "cell_type": "code",
      "execution_count": 31,
      "id": "c04edd37",
      "metadata": {
        "id": "c04edd37"
      },
      "outputs": [],
      "source": [
        "### Construct examples of A,b and solve using the three methods mentioned above. \n",
        "### Compare the solutions obtained."
      ]
    },
    {
      "cell_type": "code",
      "execution_count": 32,
      "id": "660155fa",
      "metadata": {
        "colab": {
          "base_uri": "https://localhost:8080/"
        },
        "id": "660155fa",
        "outputId": "d2de8821-5752-4448-af4b-a0905447ce06"
      },
      "outputs": [
        {
          "name": "stdout",
          "output_type": "stream",
          "text": [
            "The value of the x vector using Gauss-Siedel is  (array([3.16023152e-10, 1.00000000e+00, 2.00000000e+00, 3.00000000e+00]), 0.001203298568725586, 13)\n",
            "The value of the x vector using Jacobi iteration is  (array([0., 1., 2., 3.]), 0.0008513927459716797, 20)\n",
            "The value of the x vector using NumPy is  [0. 1. 2. 3.]\n"
          ]
        }
      ],
      "source": [
        "# First we try the functions for a simple 4x4 matrix. \n",
        "A = np.array([[4, 1, 0, 0], [1, 5, 1, 0], [0, 1, 6, 1], [1, 0, 1, 4]])\n",
        "b = [1, 7, 16, 14]\n",
        "print(\"The value of the x vector using Gauss-Siedel is \", myGS(A, b))\n",
        "print(\"The value of the x vector using Jacobi iteration is \", myJacobi(A, b))\n",
        "print(\"The value of the x vector using NumPy is \",np.linalg.solve(A, b))"
      ]
    },
    {
      "cell_type": "code",
      "execution_count": 33,
      "id": "KGlMzxnvQ7-k",
      "metadata": {
        "id": "KGlMzxnvQ7-k"
      },
      "outputs": [],
      "source": [
        "# Now we take a 50 x 50 matrix and check the above functions.\n",
        "b = np.random.rand(50,1)\n",
        "A = np.zeros((50,50))\n",
        "np.fill_diagonal(A,1000)\n",
        "A += np.random.uniform(-1,1,size=(50,50))"
      ]
    },
    {
      "cell_type": "code",
      "execution_count": 34,
      "id": "ZoX8LBk7TaEi",
      "metadata": {
        "colab": {
          "base_uri": "https://localhost:8080/"
        },
        "id": "ZoX8LBk7TaEi",
        "outputId": "cfc70e0d-36b5-4bf3-9d26-96899a079af4"
      },
      "outputs": [
        {
          "name": "stdout",
          "output_type": "stream",
          "text": [
            "Time taken by the Jacobi method is 0.0008003711700439453  and the number of iterations are  7\n",
            "Time taken by the Gauss-Siedel method is 0.0037119388580322266  and the number of iterations are  5\n",
            "The maximum difference in solution between the Jacobi and numpy methods is  3.263001591426217e-05\n",
            "The maximum difference in solution between the GS and numpy methods is  6.432029388270255e-15\n"
          ]
        }
      ],
      "source": [
        "# Solving using NumPy, myJacobi, myGS\n",
        "x_np = np.linalg.solve(A,b)\n",
        "x_J, t1, itr1 = myJacobi(A,b)\n",
        "x_gs, t2, itr2 = myGS(A,b)\n",
        "print(\"Time taken by the Jacobi method is\", t1 , \" and the number of iterations are \", itr1)\n",
        "print(\"Time taken by the Gauss-Siedel method is\", t2 , \" and the number of iterations are \", itr2)\n",
        "print(\"The maximum difference in solution between the Jacobi and numpy methods is \", np.linalg.norm((x_J - x_np), np.inf))\n",
        "print(\"The maximum difference in solution between the GS and numpy methods is \", np.linalg.norm((x_gs - x_np), np.inf))"
      ]
    },
    {
      "cell_type": "code",
      "execution_count": 35,
      "id": "hKYwccHkYwCG",
      "metadata": {
        "id": "hKYwccHkYwCG"
      },
      "outputs": [],
      "source": [
        "b = np.random.rand(500,1)\n",
        "A = np.zeros((500,500))\n",
        "np.fill_diagonal(A,1000)\n",
        "A += np.random.uniform(-1,1,size=(500,500))"
      ]
    },
    {
      "cell_type": "code",
      "execution_count": 36,
      "id": "BaXxnnzKY8EQ",
      "metadata": {
        "colab": {
          "base_uri": "https://localhost:8080/"
        },
        "id": "BaXxnnzKY8EQ",
        "outputId": "442b1ce9-e66a-4c28-e49b-a8fde27cbbe2"
      },
      "outputs": [
        {
          "name": "stdout",
          "output_type": "stream",
          "text": [
            "Time taken by the Jacobi method is 0.08364486694335938  and the number of iterations are  8\n",
            "Time taken by the Gauss-Siedel method is 0.2238166332244873  and the number of iterations are  6\n",
            "The maximum difference in solution between the Jacobi and numpy methods is  0.0004656324431911462\n",
            "The maximum difference in solution between the GS and numpy methods is  1.0028870095490916e-13\n"
          ]
        }
      ],
      "source": [
        "x_np = np.linalg.solve(A,b)\n",
        "x_J, t1, itr1 = myJacobi(A,b)\n",
        "x_gs, t2, itr2 = myGS(A,b)\n",
        "print(\"Time taken by the Jacobi method is\", t1 , \" and the number of iterations are \", itr1)\n",
        "print(\"Time taken by the Gauss-Siedel method is\", t2 , \" and the number of iterations are \", itr2)\n",
        "print(\"The maximum difference in solution between the Jacobi and numpy methods is \", np.linalg.norm((x_J - x_np), np.inf))\n",
        "print(\"The maximum difference in solution between the GS and numpy methods is \", np.linalg.norm((x_gs - x_np), np.inf))\n"
      ]
    },
    {
      "cell_type": "code",
      "execution_count": 37,
      "id": "rgMYAIDhaa-W",
      "metadata": {
        "id": "rgMYAIDhaa-W"
      },
      "outputs": [],
      "source": [
        "b = np.random.rand(1000,1)\n",
        "A = np.zeros((1000,1000))\n",
        "np.fill_diagonal(A,1000)\n",
        "A += np.random.uniform(-1,1,size=(1000,1000))"
      ]
    },
    {
      "cell_type": "code",
      "execution_count": 38,
      "id": "WGPYHdHLbXGu",
      "metadata": {
        "colab": {
          "base_uri": "https://localhost:8080/"
        },
        "id": "WGPYHdHLbXGu",
        "outputId": "b55a333d-7117-4d67-f159-2fd46d016039"
      },
      "outputs": [
        {
          "name": "stdout",
          "output_type": "stream",
          "text": [
            "Time taken by the Jacobi method is 0.6639509201049805  and the number of iterations are  9\n",
            "Time taken by the Gauss-Siedel method is 1.7460522651672363  and the number of iterations are  6\n",
            "The maximum difference in solution between the Jacobi and numpy methods is  0.0008972190728317391\n",
            "The maximum difference in solution between the GS and numpy methods is  1.9672848419749478e-12\n"
          ]
        }
      ],
      "source": [
        "x_np = np.linalg.solve(A,b)\n",
        "x_J, t1, itr1 = myJacobi(A,b)\n",
        "x_gs, t2, itr2 = myGS(A,b)\n",
        "print(\"Time taken by the Jacobi method is\", t1 , \" and the number of iterations are \", itr1)\n",
        "print(\"Time taken by the Gauss-Siedel method is\", t2 , \" and the number of iterations are \", itr2)\n",
        "print(\"The maximum difference in solution between the Jacobi and numpy methods is \", np.linalg.norm((x_J - x_np), np.inf))\n",
        "print(\"The maximum difference in solution between the GS and numpy methods is \", np.linalg.norm((x_gs - x_np), np.inf))"
      ]
    },
    {
      "cell_type": "markdown",
      "id": "fuKnv1bv2Obr",
      "metadata": {
        "id": "fuKnv1bv2Obr"
      },
      "source": [
        "We observe that the Gauss-Siedel method takes less number of iterations to converge than the Jacobi method, but the Gauss-Siedel method is slower as compared to the Jacobi method in terms of time taken to converge. "
      ]
    }
  ],
  "metadata": {
    "colab": {
      "provenance": []
    },
    "kernelspec": {
      "display_name": "Python 3",
      "language": "python",
      "name": "python3"
    },
    "language_info": {
      "codemirror_mode": {
        "name": "ipython",
        "version": 3
      },
      "file_extension": ".py",
      "mimetype": "text/x-python",
      "name": "python",
      "nbconvert_exporter": "python",
      "pygments_lexer": "ipython3",
      "version": "3.9.13"
    },
    "varInspector": {
      "cols": {
        "lenName": 16,
        "lenType": 16,
        "lenVar": 40
      },
      "kernels_config": {
        "python": {
          "delete_cmd_postfix": "",
          "delete_cmd_prefix": "del ",
          "library": "var_list.py",
          "varRefreshCmd": "print(var_dic_list())"
        },
        "r": {
          "delete_cmd_postfix": ") ",
          "delete_cmd_prefix": "rm(",
          "library": "var_list.r",
          "varRefreshCmd": "cat(var_dic_list()) "
        }
      },
      "types_to_exclude": [
        "module",
        "function",
        "builtin_function_or_method",
        "instance",
        "_Feature"
      ],
      "window_display": false
    }
  },
  "nbformat": 4,
  "nbformat_minor": 5
}
