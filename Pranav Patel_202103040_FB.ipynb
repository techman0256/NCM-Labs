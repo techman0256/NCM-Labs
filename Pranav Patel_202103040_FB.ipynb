{
 "cells": [
  {
   "cell_type": "markdown",
   "id": "d8e654c3",
   "metadata": {},
   "source": [
    "# MC225 - Numerical and Computational Methods\n",
    "## Lab Exam \n",
    "## May 1, 2023, 2 pm - 4:30 pm\n",
    "## Maximum Marks: 15\n",
    "## Student Name: $\\underline{\\hspace{2.5in}Pranav Patel}$ Student ID No. $\\underline{\\hspace{1.5in}202103040}$\n",
    "***"
   ]
  },
  {
   "cell_type": "markdown",
   "id": "972c2514",
   "metadata": {},
   "source": [
    "***\n",
    "#### 1. Fill in your Name and ID No. above.\n",
    "#### 2. The deadline for submitting your notebook on Moodle is 4:30 pm.\n",
    "#### 3. Do not import any library not specified in the cell below.\n",
    "***"
   ]
  },
  {
   "cell_type": "markdown",
   "id": "30c6d339",
   "metadata": {},
   "source": [
    "### There are mainly two questions that you are supposed to solve. Assume a random variable $x$ which has Gaussian/Normal distribution with specified mean and standard deviation. You need to write functions to (Q.1) estimate the cumulative distribution function(CDF) for any specified value of $x$, and (Q.2) estimating the value of a random variable for any specified value of CDF. (Q.3) involves plotting the CDF using an in-built python function, and functions written in Q.1 and Q.2, and is more or less written for you. More details of each question in provided in the corresponding cells.\n",
    "#### 1. You must use concepts from this course to solve both questions, and you must not use in-built functions that directly computes the CDF. You can only use the in-built function to verify the correctness/accuracy of your function, and in Q.3\n",
    "#### 2. The in-built function to compute the CDF is specified in the cell before Q.2"
   ]
  },
  {
   "cell_type": "code",
   "execution_count": 1,
   "id": "d6e3fbed",
   "metadata": {},
   "outputs": [],
   "source": [
    "# Only libraries mentioned below must be used throughout your code.\n",
    "# import useful libraries\n",
    "import numpy as np\n",
    "import matplotlib.pyplot as plt\n",
    "from scipy.stats import norm\n",
    "# The statistics library must be used only to verify the correctness of your functions.\n",
    "# The relevant functions from this library are written in the cells where your can \n",
    "# verify the correctness/accuracy of your functions.\n",
    "# from statistics import NormalDist"
   ]
  },
  {
   "cell_type": "markdown",
   "id": "30f65005",
   "metadata": {},
   "source": [
    "### Q.1 The Gaussian distribution of a random variable $x$ is given by $$ p(x) = \\frac{1}{\\sigma \\sqrt{2 \\pi}} \\exp\\left(-\\frac{1}{2}\\left(\\frac{x-\\mu}{\\sigma}\\right)^2\\right)$$ where $\\mu$ and $\\sigma$ are the mean and standard deviation of the distribution. Write a python function `myGaussianProb` that takes in $\\mu$, $\\sigma$, and a real number $a$, and returns the probability $$P(x \\leq a) = \\int_{-\\infty}^a p(y) \\ dy,$$ using appropriate Numerical integration method. Handle $-\\infty$ with care! The function `mynormal`, given below for your convenience, computes the integrand $p(x)$ for specified values of $x,\\mu$ and $\\sigma$. \n",
    "### <div style='text-align: right'><em>**[5]**</em></div>\n"
   ]
  },
  {
   "cell_type": "code",
   "execution_count": 2,
   "id": "3e1a9902",
   "metadata": {},
   "outputs": [],
   "source": [
    "### Use the following function to compute p(x)\n",
    "### Gaussian pdf\n",
    "\n",
    "def mynormal(x,mu,sig):\n",
    "    return (1/(sig*np.sqrt(2*np.pi)))*np.exp(-0.5*((x-mu)/sig)**2)"
   ]
  },
  {
   "cell_type": "code",
   "execution_count": 142,
   "id": "4db102b0",
   "metadata": {},
   "outputs": [],
   "source": [
    "# c = 3\n",
    "# sig = 15\n",
    "# mu = 10\n",
    "\n",
    "# x = np.linspace(-75+10, 75+10)\n",
    "# y = mynormal(x, mu, sig)\n",
    "\n",
    "# plt.scatter([mu-c*sig], [mynormal(mu-c*sig, mu, sig)])\n",
    "# plt.plot(x,y)\n",
    "# plt.show()\n"
   ]
  },
  {
   "cell_type": "code",
   "execution_count": 3,
   "id": "2617422e",
   "metadata": {},
   "outputs": [],
   "source": [
    "# Integration Function\n",
    "def mytrapezoidNorm(a, b, n, mu, sig):\n",
    "   points = np.linspace(a, b, n)\n",
    "   fpoints = mynormal(points, mu, sig)\n",
    " \n",
    "   h = (b-a)/(n-1)\n",
    "   \n",
    "   sumterm = np.sum([fpoints[1:n-1]])\n",
    "   \n",
    "   return 1/2 * h * (f(a) + f(b) + (2* sumterm))\n",
    "\n",
    "def mysimpsonNorm(a, b, n, mu, sig):\n",
    "    if(n%2!=0):\n",
    "        points  = np.linspace(a,b,n)\n",
    "        h = (b-a)/(n-1)  \n",
    "    else:\n",
    "        points  = np.linspace(a,b,n+1)\n",
    "        h = (b-a)/(n) \n",
    "    y = mynormal(points, mu, sig)  \n",
    "    I = (h/3) * (y[0]+y[n-1]+2*np.sum(y[2:n-2:2])+4*np.sum(y[1:n-1:2]))\n",
    "    return I\n"
   ]
  },
  {
   "cell_type": "code",
   "execution_count": 4,
   "id": "c958baa3",
   "metadata": {
    "scrolled": false
   },
   "outputs": [],
   "source": [
    "### Write your function (myGaussianProb) here.\n",
    "### For any additional functions that might be needed in the following function, \n",
    "### create additional cell(s) and write these functions there.\n",
    "### [Once you write these functions in the additional cells and compile these cells, \n",
    "### these functions can be directly used in any cell below without re-writing them.]\n",
    "def myGaussianProb(mu,sig,a):\n",
    "    c = 4 # approximation constant that gets multiplied to the value of sig => -inf ~= c * sig\n",
    "    inf = mu - (c * sig)\n",
    "    \n",
    "    n = 1000\n",
    "    Pxa = mysimpsonNorm(inf, a, n, mu, sig)     \n",
    "    \n",
    "    \n",
    "    return Pxa # P(x<= a)"
   ]
  },
  {
   "cell_type": "code",
   "execution_count": 5,
   "id": "c9a6f14f",
   "metadata": {
    "scrolled": true
   },
   "outputs": [
    {
     "name": "stdout",
     "output_type": "stream",
     "text": [
      "-3.152068437824551e-05\n",
      "1.4876887318776573e-07\n"
     ]
    }
   ],
   "source": [
    "### Verify the correctness of your function myGaussianProb in this cell\n",
    "### Set parameters - mu,sig,a\n",
    "mu=1\n",
    "sig=2\n",
    "a = -9.25\n",
    "\n",
    "### Evaluate your function and compare. \n",
    "### You may check for different mu,sig,a values\n",
    "print(myGaussianProb(mu,sig,a))\n",
    "\n",
    "### In-built function that computes P(x<=a). Note the following function should not be \n",
    "### used in any of your functions.\n",
    "N = norm(mu, sig)\n",
    "print(N.cdf(a))"
   ]
  },
  {
   "cell_type": "markdown",
   "id": "e6d7ee26",
   "metadata": {},
   "source": [
    "### <font color=red> Why do you set the lower integration limit to $\\mu-4\\sigma$? If $a < \\mu-4\\sigma$, then your code outputs a negative probability (although small). Q.1 - 3/5 <font>"
   ]
  },
  {
   "cell_type": "code",
   "execution_count": 8,
   "id": "edbe7645",
   "metadata": {},
   "outputs": [
    {
     "name": "stdout",
     "output_type": "stream",
     "text": [
      "0.18112932722380984\n",
      "0.18279576878241605\n"
     ]
    }
   ],
   "source": [
    "mu=30\n",
    "sig=10.5\n",
    "a = 20.5\n",
    "\n",
    "### Evaluate your function and compare. \n",
    "### You may check for different mu,sig,a values\n",
    "print(myGaussianProb(mu,sig,a))\n",
    "\n",
    "### In-built function that computes P(x<=a). Note the following function should not be \n",
    "### used in any of your functions.\n",
    "N = norm(mu, sig)\n",
    "print(N.cdf(a))"
   ]
  },
  {
   "cell_type": "code",
   "execution_count": 9,
   "id": "4304b785",
   "metadata": {},
   "outputs": [],
   "source": [
    "# Interpolation using Newton's Polynomial\n",
    "\n",
    "# Function that will take an function parameter and range[a, b] and it will plot the graph using plt.plot\n",
    "def plotfx(fx, a, b):\n",
    "  xn = np.linspace(a, b, 1000)\n",
    "  yn = fx(xn)\n",
    "  plt.plot(xn, yn)\n",
    "  # return yn\n",
    "\n",
    "# mynewtonint function\n",
    "\n",
    "def evalPn(x, coeff, xy): #method that evaluate the polynomial with the basis 1, (x-x0), (x-x0)(x-1),...\n",
    "  eval = 0;\n",
    "  for i in range(len(coeff)):\n",
    "    eval = eval + coeff[i] * wk(x, i, xy)\n",
    "  return eval\n",
    "\n",
    "\n",
    "def wk(x, k, xy): #This function computes the values W_k(x)\n",
    "  wi = 1\n",
    "  for i in range(k):\n",
    "    wi = wi * (x - xy[i][0])\n",
    "\n",
    "  return wi\n",
    "\n",
    "def kPn(x, coeff, xy): # This function computes the value of P^(k-1)(x)\n",
    "  evaPol = 0\n",
    "  k = len(coeff)\n",
    "  for i in range(k):\n",
    "    evaPol += coeff[i] * wk(x, i, xy)\n",
    "    \n",
    "  return evaPol\n",
    "\n",
    "#Given a n x 2 matrix it will find the coefficient of the polynomial which passes through the points given in the matrix\n",
    "def mynewtonint(xy):\n",
    "  coeff = [];\n",
    "\n",
    "  for i in range(len(xy)):\n",
    "    xi = xy[i][0]\n",
    "    yi = xy[i][1]\n",
    "    denom = wk(xi, i, xy)\n",
    "    term = (yi - kPn(xi, coeff, xy))/denom\n",
    "    # print(i, w)\n",
    "    coeff = np.append(coeff, term)\n",
    "    # coeff[1] = np.append(coeff[1], denom)\n",
    "  return coeff\n",
    "\n",
    "#Given a vector of coefficient and n x 2 matrix of sample point the function will plot the graph ot the polynomial whose cofficients are given in function argument\n",
    "def plotPn(coeff, xy):\n",
    "  samplex0 = np.array(xy[  : ,0])\n",
    "  sampley0 = np.array(xy[  : ,1])\n",
    "  a = np.min(samplex0)\n",
    "  b = np.max(samplex0)\n",
    "\n",
    "  xn = np.linspace(a, b, 100)\n",
    "  fx = evalPn(xn, coeff, xy)\n",
    "\n",
    "  plt.scatter(samplex0, sampley0, marker='o')\n",
    "  plt.plot(xn, fx, color='r')\n",
    "  plt.show()"
   ]
  },
  {
   "cell_type": "code",
   "execution_count": 10,
   "id": "228539d8",
   "metadata": {},
   "outputs": [],
   "source": [
    "def rangeMap(a, b, a1, b1, x):\n",
    "    # x = np.linspace(a, b, 1000)\n",
    "    x_new_range = ((x - a) * (b1 - a1) / (b-a)) + a1\n",
    "    return x_new_range"
   ]
  },
  {
   "cell_type": "code",
   "execution_count": 11,
   "id": "35619d6a",
   "metadata": {},
   "outputs": [],
   "source": [
    "def mychebynodes(n):\n",
    "  xk = np.array([])\n",
    "  for k in range(n):\n",
    "    zk = ((2*k + 1)/(2*n))*np.pi\n",
    "    xk = np.append(xk, np.cos(zk))\n",
    "  \n",
    "  return xk"
   ]
  },
  {
   "cell_type": "code",
   "execution_count": 12,
   "id": "1db4ad60",
   "metadata": {},
   "outputs": [],
   "source": [
    "# Interpolating using natrural spline\n",
    "def find_next_indexes(x, arr):\n",
    "    next_smaller = None\n",
    "    next_bigger = None\n",
    "    for i in range(len(arr)):\n",
    "        if arr[i] < x:\n",
    "            if next_smaller is None or arr[i] > arr[next_smaller]:\n",
    "                next_smaller = i\n",
    "        elif arr[i] > x:\n",
    "            if next_bigger is None or arr[i] <= arr[next_bigger]:\n",
    "                next_bigger = i\n",
    "    if next_smaller == None:\n",
    "        next_smaller = 0\n",
    "    \n",
    "    return next_smaller, next_bigger\n",
    "\n",
    "# Functions that Evaluate the S(x) = P(x)_i , where i=0, 1, 2, .., n-1\n",
    "def S(val, coeff, data_points):\n",
    "    k, k1 = find_next_indexes(val,data_points)\n",
    "    poly = coeff[k,:] # some function that returns you the coefficients for the P(x)_i given x\n",
    "    # poly = poly.reshape((4,1))\n",
    "    eval = (poly[0] + (poly[1] * val) + (poly[2] * (val**2)) + (poly[3] * (val**3)))    \n",
    "    return eval\n",
    "\n",
    "### Natural Cubic Splines\n",
    "### def mynaturalcubicsplines(n):\n",
    "\n",
    "def mynaturalcubicsplines(x, y, n):\n",
    "    matlar = np.zeros((4*n,4*n))\n",
    "    # y_fin = np.zeros((4*n,1))\n",
    "    y_fin = []\n",
    "    for i in range(n):\n",
    "        blockMat = []\n",
    "        x_k = x[i]\n",
    "        x_k1 = x[i+1]\n",
    "        y_fin = np.append(y_fin, [y[i], y[i+1], 0, 0])\n",
    "\n",
    "        r1 = np.array([1, x_k, x_k ** 2, x_k ** 3, 0, 0, 0,0]) # n x 8 \n",
    "        r2 = np.array([1, x_k1, x_k1 ** 2, x_k1 ** 3, 0, 0, 0,0]) # n x 8\n",
    "        if(i != n-1):\n",
    "            r3 = np.array([0, 1, 2 * x_k1, 3 * (x_k1 ** 2), 0, -1, -2 * x_k1, -3 * (x_k1 ** 2) ]) # n-1 x 8 \n",
    "            r4 = np.array([0, 0, 2, 6 * x_k1, 0, 0, -2, -6 * x_k1 ]) # n-1 x 8\n",
    "\n",
    "            blockMat = np.vstack((r1, r2, r3, r4))\n",
    "            matlar[4*i:4*i+4,4*i:4*i+8] = blockMat\n",
    "        else :\n",
    "            r1 = r1[:4]\n",
    "            r2 = r2[:4]\n",
    "            blockMat = np.vstack((r1, r2))\n",
    "            matlar[4*i:4*i+2,4*i:4*i+4] = blockMat \n",
    "\n",
    "    matlar[4*n-2:4*n-1,0:4] = np.array([0,0,2,6*x[0]])\n",
    "    matlar[4*n-1:4*n, 4*n-4:4*n] = np.array([0,0,2,6*x[n]])\n",
    "    y_fin = np.reshape(y_fin, (4*n,1))\n",
    "\n",
    "    coeff = np.linalg.solve(matlar, y_fin)\n",
    "    coeff_eval = np.reshape(coeff, (len(x) - 1,4))\n",
    "\n",
    "#     x_plot = np.linspace(x[0], x[len(x)-1], 1000)\n",
    "#     y_plot = []\n",
    "#     plt.scatter(x,y)\n",
    "#     for i in range(len(x_plot)):\n",
    "#         val = S(x_plot[i], coeff_eval, x)\n",
    "#         y_plot = np.append(y_plot, val)\n",
    "#     plt.plot(x_plot, y_plot, color='b')\n",
    "#     plt.show()\n",
    "    \n",
    "    return coeff"
   ]
  },
  {
   "cell_type": "markdown",
   "id": "fe06786b",
   "metadata": {},
   "source": [
    "### <font color=red> Why do you need the above codes? <font>"
   ]
  },
  {
   "cell_type": "markdown",
   "id": "953a10a0",
   "metadata": {},
   "source": [
    "***\n",
    "### Q.2 Write a function `myGaussianx` that takes in $\\mu$ and $\\sigma$, the mean and standard deviation of a Gaussian distribution for a random variable $x$, and a real number $k$ with $0\\leq k \\leq 1$, and outputs a real number $a$ such that $P(x \\leq a) = k$. You must rely on numerical methods from this course.\n",
    "### <div style='text-align: right'><em>**[8]**</em></div>"
   ]
  },
  {
   "cell_type": "code",
   "execution_count": 13,
   "id": "8f9eda6c",
   "metadata": {},
   "outputs": [],
   "source": [
    "### Write your function myGaussianx below. Given k = P(x<=a), the function should\n",
    "### return a. Create extra cells above this one to\n",
    "### define any other function that you may require in myGaussianx. \n",
    "###\n",
    "### [Note that any function that you may have already written (and compiled) before \n",
    "### this cell, can be directly used/called without re-writting it in this cell or \n",
    "### later.]\n",
    "\n",
    "def myGaussianx(mu,sig,k):\n",
    "    c = 4 # approximation constant that gets multiplied to the value of sig => -inf ~= c * sig\n",
    "    neginf = mu - (c * sig)\n",
    "    inf = mu + (c * sig)\n",
    "    \n",
    "    # Computing the sample values for interpolating them to approximate the inverse of cdf function\n",
    "    s = 50   #number of samples\n",
    "    \n",
    "    #using chebshev node to sample x values at cdf(x)\n",
    "    x = np.linspace(neginf, inf, s)\n",
    "#     x = mychebynodes(s)\n",
    "#     x = rangeMap(-1, 1, neginf, inf, x)\n",
    "#     print(x)\n",
    "    y = np.array([])\n",
    "    for i in range(len(x)):\n",
    "        compute = myGaussianProb(mu, sig, x[i])\n",
    "        y = np.append(y, compute)\n",
    "    \n",
    "#     print(y)\n",
    "    \n",
    "#     plt.plot(y, x)\n",
    "#     plt.scatter(y, x)\n",
    "#     plt.show()\n",
    "    #Now x and y are our sample points \n",
    "    xy = np.column_stack((y, x))\n",
    "    coeff = mynaturalcubicsplines(y, x, s - 1)\n",
    "    coeff_eval = np.reshape(coeff, (len(x) - 1,4))\n",
    "    \n",
    "\n",
    "    a = S(k , coeff_eval, y)\n",
    "   \n",
    "\n",
    "    \n",
    "    \n",
    "    \n",
    "    return a"
   ]
  },
  {
   "cell_type": "code",
   "execution_count": 17,
   "id": "bef6a456",
   "metadata": {},
   "outputs": [
    {
     "name": "stdout",
     "output_type": "stream",
     "text": [
      "1106.7119517758433 0.7031769221062244 0.7\n"
     ]
    }
   ],
   "source": [
    "mu =1000\n",
    "sig=200\n",
    "k=0.7\n",
    "a = myGaussianx(mu,sig,k)\n",
    "print(a,norm(mu, sig).cdf(a),k)"
   ]
  },
  {
   "cell_type": "markdown",
   "id": "d06fb152",
   "metadata": {},
   "source": [
    "### <font color=red> One of the most original ideas! Congratulations and well done! Do give a thought to the following: Can one invert any function in this way? Why did it work in this case? Q.2 8/8<font>"
   ]
  },
  {
   "cell_type": "code",
   "execution_count": 153,
   "id": "95516b1f",
   "metadata": {},
   "outputs": [
    {
     "name": "stdout",
     "output_type": "stream",
     "text": [
      "0.366646168401\n",
      "0.369441340182\n"
     ]
    }
   ],
   "source": [
    "mu=5\n",
    "sig=6\n",
    "k = 3\n",
    "\n",
    "### Evaluate your function and compare. \n",
    "### You may check for different mu,sig,a values\n",
    "print(myGaussianProb(mu,sig,k))\n",
    "\n",
    "### In-built function that computes P(x<=a). Note the following function should not be \n",
    "### used in any of your functions.\n",
    "N = norm(mu, sig)\n",
    "print(N.cdf(k))\n"
   ]
  },
  {
   "cell_type": "code",
   "execution_count": 154,
   "id": "6c3a5646",
   "metadata": {},
   "outputs": [
    {
     "name": "stdout",
     "output_type": "stream",
     "text": [
      "0.329502658027\n"
     ]
    }
   ],
   "source": [
    "a = myGaussianx(1, 2, 0.365925264609)\n",
    "print(a)"
   ]
  },
  {
   "cell_type": "markdown",
   "id": "ce46257b",
   "metadata": {},
   "source": [
    "***\n",
    "### Q.3 Plot the samples of the function $y=P(x\\leq a)$  using the following three ways: (a) `y1 = myGaussianProb(mu,sig,a1)` , (b) `a2 = myGaussianx(mu,sig,y2)`, (c) `y3 = NormalDist(mu, sig).cdf(a3)` on the same plot. Note that the values of $a$ should appear on the $x$-axis, while the values of $y$ should appear on the $y$-axis. If you have writtten the two function properly, Q.3 is already solved for you below. Assuming the in-built function is the true value, find out the accuracy of your function as you change the parameters involved, for example, number of points or number of iterations used.\n",
    "### <div style='text-align: right'><em>**[2]**</em></div>"
   ]
  },
  {
   "cell_type": "code",
   "execution_count": 19,
   "id": "27c599dc",
   "metadata": {},
   "outputs": [
    {
     "data": {
      "image/png": "[encoded data removed]",
      "text/plain": [
       "<Figure size 432x288 with 1 Axes>"
      ]
     },
     "metadata": {
      "needs_background": "light"
     },
     "output_type": "display_data"
    }
   ],
   "source": [
    "# Number of points 'a' where y = P(x<=a) will be computed \n",
    "nop=100 \n",
    "\n",
    "# Example values of mu and sig\n",
    "mu=0\n",
    "sig=15\n",
    "\n",
    "# Method (a)    \n",
    "a1 = np.linspace(-70,70,nop)\n",
    "y1 = np.zeros(nop)\n",
    "for i in np.arange(nop):\n",
    "    y1[i]=myGaussianProb(mu,sig,a1[i])\n",
    "\n",
    "# Method (b)\n",
    "y2=np.linspace(0,1,nop)\n",
    "a2 = np.zeros(nop)\n",
    "#q = np.zeros(nop)\n",
    "for i in np.arange(nop -1):\n",
    "    a2[i]=myGaussianx(mu,sig,y2[i])\n",
    "\n",
    "# I don't know why my internal function for spline evaluating at last point\n",
    "    \n",
    "# Method (c)    \n",
    "a3 = np.linspace(-70,70,nop)\n",
    "y3 = np.zeros(nop)\n",
    "p = norm(mu, sig)\n",
    "for i in np.arange(nop):\n",
    "    y3[i]=p.cdf(a3[i])\n",
    "    \n",
    "# Plot (a1,y1), (a2,y2) and (a3,y3) in one plot    \n",
    "plt.plot(a1,y1,'b')\n",
    "plt.plot(a2,y2,'r')\n",
    "plt.plot(a3,y3,'g')\n",
    "plt.legend(['myGaussianProb','myGaussianx','In-Built function'])\n",
    "plt.grid()\n",
    "plt.show()"
   ]
  },
  {
   "cell_type": "markdown",
   "id": "9de50707",
   "metadata": {},
   "source": [
    "### <font color=red> Nice try. You did not compute errors.Q.3 1/2 <font>"
   ]
  },
  {
   "cell_type": "markdown",
   "id": "c14584b6",
   "metadata": {},
   "source": [
    "### <font color=red> Total: 12/15. Good!<font>"
   ]
  }
 ],
 "metadata": {
  "kernelspec": {
   "display_name": "Python 3",
   "language": "python",
   "name": "python3"
  },
  "language_info": {
   "codemirror_mode": {
    "name": "ipython",
    "version": 3
   },
   "file_extension": ".py",
   "mimetype": "text/x-python",
   "name": "python",
   "nbconvert_exporter": "python",
   "pygments_lexer": "ipython3",
   "version": "3.8.8"
  },
  "varInspector": {
   "cols": {
    "lenName": 16,
    "lenType": 16,
    "lenVar": 40
   },
   "kernels_config": {
    "python": {
     "delete_cmd_postfix": "",
     "delete_cmd_prefix": "del ",
     "library": "var_list.py",
     "varRefreshCmd": "print(var_dic_list())"
    },
    "r": {
     "delete_cmd_postfix": ") ",
     "delete_cmd_prefix": "rm(",
     "library": "var_list.r",
     "varRefreshCmd": "cat(var_dic_list()) "
    }
   },
   "types_to_exclude": [
    "module",
    "function",
    "builtin_function_or_method",
    "instance",
    "_Feature"
   ],
   "window_display": false
  }
 },
 "nbformat": 4,
 "nbformat_minor": 5
}
